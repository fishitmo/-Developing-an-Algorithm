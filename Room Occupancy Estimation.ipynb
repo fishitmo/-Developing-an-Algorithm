{
 "cells": [
  {
   "cell_type": "code",
   "execution_count": 23,
   "id": "ccbaa0c7-b7da-4164-96fe-28b6de4c8d45",
   "metadata": {},
   "outputs": [],
   "source": [
    "import tensorflow as tf\n",
    "# Explicitly disable eager execution\n",
    "tf.compat.v1.disable_eager_execution()"
   ]
  },
  {
   "cell_type": "code",
   "execution_count": 2,
   "id": "409672f0-a04c-457c-a0e3-d217a6d010c9",
   "metadata": {},
   "outputs": [
    {
     "name": "stdout",
     "output_type": "stream",
     "text": [
      "Requirement already satisfied: ucimlrepo in c:\\users\\werka\\miniconda3\\envs\\py310\\lib\\site-packages (0.0.6)\n",
      "Collecting ucimlrepo\n",
      "  Downloading ucimlrepo-0.0.7-py3-none-any.whl.metadata (5.5 kB)\n",
      "Requirement already satisfied: pandas>=1.0.0 in c:\\users\\werka\\miniconda3\\envs\\py310\\lib\\site-packages (from ucimlrepo) (2.2.1)\n",
      "Requirement already satisfied: certifi>=2020.12.5 in c:\\users\\werka\\miniconda3\\envs\\py310\\lib\\site-packages (from ucimlrepo) (2024.2.2)\n",
      "Requirement already satisfied: numpy<2,>=1.22.4 in c:\\users\\werka\\miniconda3\\envs\\py310\\lib\\site-packages (from pandas>=1.0.0->ucimlrepo) (1.26.4)\n",
      "Requirement already satisfied: python-dateutil>=2.8.2 in c:\\users\\werka\\miniconda3\\envs\\py310\\lib\\site-packages (from pandas>=1.0.0->ucimlrepo) (2.8.2)\n",
      "Requirement already satisfied: pytz>=2020.1 in c:\\users\\werka\\miniconda3\\envs\\py310\\lib\\site-packages (from pandas>=1.0.0->ucimlrepo) (2023.3.post1)\n",
      "Requirement already satisfied: tzdata>=2022.7 in c:\\users\\werka\\miniconda3\\envs\\py310\\lib\\site-packages (from pandas>=1.0.0->ucimlrepo) (2023.3)\n",
      "Requirement already satisfied: six>=1.5 in c:\\users\\werka\\miniconda3\\envs\\py310\\lib\\site-packages (from python-dateutil>=2.8.2->pandas>=1.0.0->ucimlrepo) (1.16.0)\n",
      "Downloading ucimlrepo-0.0.7-py3-none-any.whl (8.0 kB)\n",
      "Installing collected packages: ucimlrepo\n",
      "  Attempting uninstall: ucimlrepo\n",
      "    Found existing installation: ucimlrepo 0.0.6\n",
      "    Uninstalling ucimlrepo-0.0.6:\n",
      "      Successfully uninstalled ucimlrepo-0.0.6\n",
      "Successfully installed ucimlrepo-0.0.7\n"
     ]
    }
   ],
   "source": [
    "!pip3 install -U ucimlrepo "
   ]
  },
  {
   "cell_type": "code",
   "execution_count": 3,
   "id": "272f250b-a6b4-47a4-8e8b-565119fad2d3",
   "metadata": {},
   "outputs": [],
   "source": [
    "from ucimlrepo import fetch_ucirepo \n",
    "  \n",
    "# fetch dataset \n",
    "room_occupancy_estimation = fetch_ucirepo(id=864) \n",
    "  \n",
    "# data (as pandas dataframes) \n",
    "X = room_occupancy_estimation.data.features \n",
    "y = room_occupancy_estimation.data.targets \n",
    "  \n",
    "# # metadata \n",
    "# print(room_occupancy_estimation.metadata) \n",
    "  \n",
    "# # variable information \n",
    "# print(room_occupancy_estimation.variables) \n"
   ]
  },
  {
   "cell_type": "code",
   "execution_count": 24,
   "id": "36aca78f-119c-4702-90af-f0871370b4cc",
   "metadata": {},
   "outputs": [],
   "source": [
    "import pandas as pd\n",
    "from sklearn.model_selection import train_test_split\n",
    "from sklearn.preprocessing import MinMaxScaler,LabelEncoder\n",
    "from sklearn.feature_selection import SelectKBest\n",
    "from sklearn.feature_selection import f_regression\n",
    "from ucimlrepo import fetch_ucirepo\n",
    "from tensorflow.keras.preprocessing.sequence import TimeseriesGenerator\n",
    "import matplotlib.pyplot as plt\n",
    "import seaborn as sns\n",
    "from tensorflow.keras.utils import to_categorical\n",
    "import numpy as np\n",
    "from tensorflow.keras.optimizers import SGD, Adam\n",
    "from tensorflow_addons.optimizers import AdamW, Yogi  # You need TensorFlow Addons for AdamW and Yogi\n",
    "from sklearn.metrics import accuracy_score, precision_score, recall_score, f1_score\n",
    "import tensorflow as tf\n",
    "import time\n",
    "from tensorflow.keras.callbacks import EarlyStopping, ReduceLROnPlateau"
   ]
  },
  {
   "cell_type": "code",
   "execution_count": 5,
   "id": "1b5559e9-c9fe-49bb-8271-78ed0556974f",
   "metadata": {},
   "outputs": [],
   "source": [
    "# Load the dataset\n",
    "room_occupancy_estimation = fetch_ucirepo(id=864)\n",
    "\n",
    "# Get features and target\n",
    "X = room_occupancy_estimation.data.features\n",
    "y = room_occupancy_estimation.data.targets\n",
    "\n",
    "# Convert to DataFrame\n",
    "df = pd.DataFrame(X, columns=room_occupancy_estimation.feature_names)\n"
   ]
  },
  {
   "cell_type": "code",
   "execution_count": 6,
   "id": "a2757ac5-47bd-41fa-886a-5674af123d45",
   "metadata": {},
   "outputs": [
    {
     "data": {
      "text/html": [
       "<div>\n",
       "<style scoped>\n",
       "    .dataframe tbody tr th:only-of-type {\n",
       "        vertical-align: middle;\n",
       "    }\n",
       "\n",
       "    .dataframe tbody tr th {\n",
       "        vertical-align: top;\n",
       "    }\n",
       "\n",
       "    .dataframe thead th {\n",
       "        text-align: right;\n",
       "    }\n",
       "</style>\n",
       "<table border=\"1\" class=\"dataframe\">\n",
       "  <thead>\n",
       "    <tr style=\"text-align: right;\">\n",
       "      <th></th>\n",
       "      <th>Date</th>\n",
       "      <th>Time</th>\n",
       "      <th>S1_Temp</th>\n",
       "      <th>S2_Temp</th>\n",
       "      <th>S3_Temp</th>\n",
       "      <th>S4_Temp</th>\n",
       "      <th>S1_Light</th>\n",
       "      <th>S2_Light</th>\n",
       "      <th>S3_Light</th>\n",
       "      <th>S4_Light</th>\n",
       "      <th>S1_Sound</th>\n",
       "      <th>S2_Sound</th>\n",
       "      <th>S3_Sound</th>\n",
       "      <th>S4_Sound</th>\n",
       "      <th>S5_CO2</th>\n",
       "      <th>S5_CO2_Slope</th>\n",
       "      <th>S6_PIR</th>\n",
       "      <th>S7_PIR</th>\n",
       "    </tr>\n",
       "  </thead>\n",
       "  <tbody>\n",
       "    <tr>\n",
       "      <th>0</th>\n",
       "      <td>2017/12/22</td>\n",
       "      <td>10:49:41</td>\n",
       "      <td>24.94</td>\n",
       "      <td>24.75</td>\n",
       "      <td>24.56</td>\n",
       "      <td>25.38</td>\n",
       "      <td>121</td>\n",
       "      <td>34</td>\n",
       "      <td>53</td>\n",
       "      <td>40</td>\n",
       "      <td>0.08</td>\n",
       "      <td>0.19</td>\n",
       "      <td>0.06</td>\n",
       "      <td>0.06</td>\n",
       "      <td>390</td>\n",
       "      <td>0.769231</td>\n",
       "      <td>0</td>\n",
       "      <td>0</td>\n",
       "    </tr>\n",
       "    <tr>\n",
       "      <th>1</th>\n",
       "      <td>2017/12/22</td>\n",
       "      <td>10:50:12</td>\n",
       "      <td>24.94</td>\n",
       "      <td>24.75</td>\n",
       "      <td>24.56</td>\n",
       "      <td>25.44</td>\n",
       "      <td>121</td>\n",
       "      <td>33</td>\n",
       "      <td>53</td>\n",
       "      <td>40</td>\n",
       "      <td>0.93</td>\n",
       "      <td>0.05</td>\n",
       "      <td>0.06</td>\n",
       "      <td>0.06</td>\n",
       "      <td>390</td>\n",
       "      <td>0.646154</td>\n",
       "      <td>0</td>\n",
       "      <td>0</td>\n",
       "    </tr>\n",
       "    <tr>\n",
       "      <th>2</th>\n",
       "      <td>2017/12/22</td>\n",
       "      <td>10:50:42</td>\n",
       "      <td>25.00</td>\n",
       "      <td>24.75</td>\n",
       "      <td>24.50</td>\n",
       "      <td>25.44</td>\n",
       "      <td>121</td>\n",
       "      <td>34</td>\n",
       "      <td>53</td>\n",
       "      <td>40</td>\n",
       "      <td>0.43</td>\n",
       "      <td>0.11</td>\n",
       "      <td>0.08</td>\n",
       "      <td>0.06</td>\n",
       "      <td>390</td>\n",
       "      <td>0.519231</td>\n",
       "      <td>0</td>\n",
       "      <td>0</td>\n",
       "    </tr>\n",
       "    <tr>\n",
       "      <th>3</th>\n",
       "      <td>2017/12/22</td>\n",
       "      <td>10:51:13</td>\n",
       "      <td>25.00</td>\n",
       "      <td>24.75</td>\n",
       "      <td>24.56</td>\n",
       "      <td>25.44</td>\n",
       "      <td>121</td>\n",
       "      <td>34</td>\n",
       "      <td>53</td>\n",
       "      <td>40</td>\n",
       "      <td>0.41</td>\n",
       "      <td>0.10</td>\n",
       "      <td>0.10</td>\n",
       "      <td>0.09</td>\n",
       "      <td>390</td>\n",
       "      <td>0.388462</td>\n",
       "      <td>0</td>\n",
       "      <td>0</td>\n",
       "    </tr>\n",
       "    <tr>\n",
       "      <th>4</th>\n",
       "      <td>2017/12/22</td>\n",
       "      <td>10:51:44</td>\n",
       "      <td>25.00</td>\n",
       "      <td>24.75</td>\n",
       "      <td>24.56</td>\n",
       "      <td>25.44</td>\n",
       "      <td>121</td>\n",
       "      <td>34</td>\n",
       "      <td>54</td>\n",
       "      <td>40</td>\n",
       "      <td>0.18</td>\n",
       "      <td>0.06</td>\n",
       "      <td>0.06</td>\n",
       "      <td>0.06</td>\n",
       "      <td>390</td>\n",
       "      <td>0.253846</td>\n",
       "      <td>0</td>\n",
       "      <td>0</td>\n",
       "    </tr>\n",
       "  </tbody>\n",
       "</table>\n",
       "</div>"
      ],
      "text/plain": [
       "         Date      Time  S1_Temp  S2_Temp  S3_Temp  S4_Temp  S1_Light  \\\n",
       "0  2017/12/22  10:49:41    24.94    24.75    24.56    25.38       121   \n",
       "1  2017/12/22  10:50:12    24.94    24.75    24.56    25.44       121   \n",
       "2  2017/12/22  10:50:42    25.00    24.75    24.50    25.44       121   \n",
       "3  2017/12/22  10:51:13    25.00    24.75    24.56    25.44       121   \n",
       "4  2017/12/22  10:51:44    25.00    24.75    24.56    25.44       121   \n",
       "\n",
       "   S2_Light  S3_Light  S4_Light  S1_Sound  S2_Sound  S3_Sound  S4_Sound  \\\n",
       "0        34        53        40      0.08      0.19      0.06      0.06   \n",
       "1        33        53        40      0.93      0.05      0.06      0.06   \n",
       "2        34        53        40      0.43      0.11      0.08      0.06   \n",
       "3        34        53        40      0.41      0.10      0.10      0.09   \n",
       "4        34        54        40      0.18      0.06      0.06      0.06   \n",
       "\n",
       "   S5_CO2  S5_CO2_Slope  S6_PIR  S7_PIR  \n",
       "0     390      0.769231       0       0  \n",
       "1     390      0.646154       0       0  \n",
       "2     390      0.519231       0       0  \n",
       "3     390      0.388462       0       0  \n",
       "4     390      0.253846       0       0  "
      ]
     },
     "execution_count": 6,
     "metadata": {},
     "output_type": "execute_result"
    }
   ],
   "source": [
    "df.head()"
   ]
  },
  {
   "cell_type": "code",
   "execution_count": 7,
   "id": "6476fd23-8cd4-4702-9dfc-4831f9060c57",
   "metadata": {},
   "outputs": [
    {
     "name": "stdout",
     "output_type": "stream",
     "text": [
      "Index(['Date', 'Time', 'S1_Temp', 'S2_Temp', 'S3_Temp', 'S4_Temp', 'S1_Light',\n",
      "       'S2_Light', 'S3_Light', 'S4_Light', 'S1_Sound', 'S2_Sound', 'S3_Sound',\n",
      "       'S4_Sound', 'S5_CO2', 'S5_CO2_Slope', 'S6_PIR', 'S7_PIR'],\n",
      "      dtype='object')\n"
     ]
    }
   ],
   "source": [
    "# Check the column names of the DataFrame\n",
    "print(df.columns)"
   ]
  },
  {
   "cell_type": "code",
   "execution_count": 8,
   "id": "da5d704b-63df-41d1-830d-ba28847920e3",
   "metadata": {},
   "outputs": [],
   "source": [
    "# df.drop(columns=[ \"Date\"], inplace=True)\n",
    "df.drop(columns=[\"Date\", \"Time\"], inplace=True)"
   ]
  },
  {
   "cell_type": "markdown",
   "id": "56b0b54f-86ec-4c30-91bd-964415d7e5ff",
   "metadata": {},
   "source": [
    "Data Preprocessing "
   ]
  },
  {
   "cell_type": "code",
   "execution_count": 9,
   "id": "b4515db3-c7e5-4873-9254-7031f9f1f5b9",
   "metadata": {},
   "outputs": [],
   "source": [
    "def normalization(df):\n",
    "  for i in df.columns:\n",
    "    upper_bound = df[i].max()\n",
    "    lower_bound = df[i].min()\n",
    "    df[i] = (df[i]-lower_bound)/(upper_bound-lower_bound)\n",
    "  return df\n",
    "\n",
    "X_norm = normalization(df)"
   ]
  },
  {
   "cell_type": "code",
   "execution_count": 10,
   "id": "253983c0-eeb9-4eaa-b0bc-bac52c4bcedf",
   "metadata": {},
   "outputs": [],
   "source": [
    "df[\"TempSum\"] = df.iloc[:,:3].sum(axis = 1)\n",
    "df[\"TempMin\"] =df.iloc[:,:3].min(axis = 1)\n",
    "df[\"TempMax\"] = df.iloc[:,:3].max(axis = 1)\n",
    "df[\"TempAvg\"] = df.iloc[:,:3].mean(axis = 1)\n",
    "df[\"LightSum\"] = df.iloc[:,4:8].sum(axis = 1)\n",
    "df[\"LightMin\"] = df.iloc[:,4:8].min(axis = 1)\n",
    "df[\"LightMax\"] = df.iloc[:,4:8].max(axis = 1)\n",
    "df[\"LightAvg\"] = df.iloc[:,4:8].mean(axis = 1)\n",
    "df[\"SoundSum\"] = df.iloc[:,8:12].sum(axis = 1)\n",
    "df[\"SoundMin\"] = df.iloc[:,8:12].min(axis = 1)\n",
    "df[\"SoundMax\"] = df.iloc[:,8:12].max(axis = 1)\n",
    "df[\"SoundAvg\"] = df.iloc[:,8:12].mean(axis = 1)"
   ]
  },
  {
   "cell_type": "code",
   "execution_count": 11,
   "id": "5b695530-1e20-4ae2-aee6-9800f0095559",
   "metadata": {},
   "outputs": [],
   "source": [
    "def normalization(df):\n",
    "  for i in df.columns:\n",
    "    upper_bound = df[i].max()\n",
    "    lower_bound = df[i].min()\n",
    "    df[i] = (df[i]-lower_bound)/(upper_bound-lower_bound)\n",
    "  return df\n",
    "\n",
    "X_norm = normalization(df)"
   ]
  },
  {
   "cell_type": "code",
   "execution_count": 12,
   "id": "49279112-bed5-4223-b64a-e2ba64d87be6",
   "metadata": {},
   "outputs": [],
   "source": [
    "y = to_categorical(y)"
   ]
  },
  {
   "cell_type": "code",
   "execution_count": 13,
   "id": "4e280d0e-e93d-4fa6-bfff-739e849b0abb",
   "metadata": {},
   "outputs": [
    {
     "data": {
      "text/plain": [
       "(10129, 4)"
      ]
     },
     "execution_count": 13,
     "metadata": {},
     "output_type": "execute_result"
    }
   ],
   "source": [
    "y.shape"
   ]
  },
  {
   "cell_type": "code",
   "execution_count": 14,
   "id": "c95c9f92-f4c9-4be0-ba8e-591b77d59117",
   "metadata": {},
   "outputs": [],
   "source": [
    "num_classes = y.shape[1]\n"
   ]
  },
  {
   "cell_type": "code",
   "execution_count": 15,
   "id": "7fa415f0-b54c-4c6e-8f74-15ab6ce498e9",
   "metadata": {},
   "outputs": [],
   "source": [
    "from tensorflow.keras.models import Sequential\n",
    "from tensorflow.keras.layers import LSTM, Dense"
   ]
  },
  {
   "cell_type": "code",
   "execution_count": 16,
   "id": "f40a5424-2c05-4260-9dbd-e11708b7fc7c",
   "metadata": {},
   "outputs": [],
   "source": [
    "# Split the data into training, validation, and test sets\n",
    "X_train, X_test, y_train, y_test = train_test_split(X_norm, y, test_size=0.2, shuffle=False)\n",
    "X_train, X_val, y_train, y_val = train_test_split(X_train, y_train, test_size=0.1, shuffle=False)"
   ]
  },
  {
   "cell_type": "code",
   "execution_count": 17,
   "id": "f2d93aea-6b9b-4d91-bdf1-360436b91699",
   "metadata": {},
   "outputs": [
    {
     "data": {
      "text/plain": [
       "(7292, 28)"
      ]
     },
     "execution_count": 17,
     "metadata": {},
     "output_type": "execute_result"
    }
   ],
   "source": [
    "X_train.shape"
   ]
  },
  {
   "cell_type": "code",
   "execution_count": 18,
   "id": "033bee83-775c-4409-8a19-e3e6ba283e5f",
   "metadata": {},
   "outputs": [
    {
     "data": {
      "text/plain": [
       "(7292, 4)"
      ]
     },
     "execution_count": 18,
     "metadata": {},
     "output_type": "execute_result"
    }
   ],
   "source": [
    "y_train.shape"
   ]
  },
  {
   "cell_type": "code",
   "execution_count": 19,
   "id": "52e99ce9-8df4-4164-a57a-2a5f4c8404ba",
   "metadata": {},
   "outputs": [],
   "source": [
    "# Define window length for TimeseriesGenerator\n",
    "window_length = 24 # Assuming a window length of 24 samples\n",
    "\n",
    "# Create TimeseriesGenerator for training data\n",
    "train_generator = TimeseriesGenerator(X_train, y_train, length=window_length, batch_size=32)\n",
    "\n",
    "# Create TimeseriesGenerator for validation data\n",
    "val_generator = TimeseriesGenerator(X_val, y_val, length=window_length, batch_size=32)\n",
    "\n",
    "# Create TimeseriesGenerator for test data\n",
    "test_generator = TimeseriesGenerator(X_test, y_test, length=window_length, batch_size=32)"
   ]
  },
  {
   "cell_type": "code",
   "execution_count": 20,
   "id": "9be2a82c-f5fb-484e-9089-bb239be210a2",
   "metadata": {},
   "outputs": [
    {
     "data": {
      "text/plain": [
       "(7292, 28)"
      ]
     },
     "execution_count": 20,
     "metadata": {},
     "output_type": "execute_result"
    }
   ],
   "source": [
    "train_generator.data.shape"
   ]
  },
  {
   "cell_type": "code",
   "execution_count": 21,
   "id": "a3eb2557-5e94-4cac-96d0-6734b27ff16e",
   "metadata": {},
   "outputs": [],
   "source": [
    "# Define the NeuralNetworkModel class\n",
    "class NeuralNetworkModel:\n",
    "    def __init__(self):\n",
    "        self.model = None\n",
    "\n",
    "    def build_lstm(self, input_shape, num_classes, optimizer):\n",
    "        self.model = Sequential()\n",
    "        self.model.add(LSTM(units=50, input_shape=input_shape))\n",
    "        self.model.add(Dense(num_classes, activation='softmax'))  # Assuming 3 classes for classification\n",
    "        self.model.compile(optimizer=optimizer, loss='categorical_crossentropy', metrics=['accuracy'])\n",
    "\n",
    "    def train(self, train_generator, val_generator, epochs, batch_size):\n",
    "        early_stopping = EarlyStopping(monitor='val_loss', patience=20, restore_best_weights=True)\n",
    "        reduce_lr = ReduceLROnPlateau(monitor='val_loss', factor=0.5, patience=5, min_lr=1e-6)\n",
    "        history = self.model.fit(train_generator, epochs=epochs, batch_size=batch_size, validation_data=val_generator, callbacks=[early_stopping, reduce_lr])\n",
    "        return history\n",
    "\n",
    "    \n",
    "    def evaluate(self, test_generator):\n",
    "        # Generate predictions\n",
    "        y_pred_prob = self.model.predict(test_generator)\n",
    "\n",
    "        # Extract true labels from test generator\n",
    "        y_true = []\n",
    "        for i in range(len(test_generator)):\n",
    "            _, labels = test_generator[i]\n",
    "            y_true.extend(labels)\n",
    "        y_true = np.argmax(y_true, axis=1)\n",
    "\n",
    "        # Convert predictions to class labels\n",
    "        y_pred = np.argmax(y_pred_prob, axis=1)\n",
    "\n",
    "        # Compute evaluation metrics\n",
    "        accuracy = accuracy_score(y_true, y_pred)\n",
    "        precision = precision_score(y_true, y_pred, average='weighted')\n",
    "        recall = recall_score(y_true, y_pred, average='weighted')\n",
    "        f1 = f1_score(y_true, y_pred, average='weighted')\n",
    "\n",
    "        return accuracy, precision, recall, f1\n"
   ]
  },
  {
   "cell_type": "code",
   "execution_count": null,
   "id": "8cda2713-d444-483e-84ea-0397ef0a15d8",
   "metadata": {},
   "outputs": [],
   "source": []
  },
  {
   "cell_type": "code",
   "execution_count": 31,
   "id": "4b34ada9-9b2d-4ea7-8995-56199b61918f",
   "metadata": {},
   "outputs": [
    {
     "name": "stdout",
     "output_type": "stream",
     "text": [
      "Training model with SGD optimizer...\n",
      "WARNING:tensorflow:Layer lstm_7 will not use cuDNN kernels since it doesn't meet the criteria. It will use a generic GPU kernel as fallback when running on GPU.\n"
     ]
    },
    {
     "ename": "ValueError",
     "evalue": "The `batch_size` argument must not be specified for the given input type. Received input: <keras.preprocessing.sequence.TimeseriesGenerator object at 0x000002EF637464A0>, batch_size: 32",
     "output_type": "error",
     "traceback": [
      "\u001b[1;31m---------------------------------------------------------------------------\u001b[0m",
      "\u001b[1;31mValueError\u001b[0m                                Traceback (most recent call last)",
      "Cell \u001b[1;32mIn[31], line 27\u001b[0m\n\u001b[0;32m     25\u001b[0m start_time \u001b[38;5;241m=\u001b[39m time\u001b[38;5;241m.\u001b[39mtime()\n\u001b[0;32m     26\u001b[0m \u001b[38;5;66;03m# history = neural_network_model.train(train_generator, y_train, val_generator, y_val, epochs=1, batch_size=32)\u001b[39;00m\n\u001b[1;32m---> 27\u001b[0m history \u001b[38;5;241m=\u001b[39m \u001b[43mneural_network_model\u001b[49m\u001b[38;5;241;43m.\u001b[39;49m\u001b[43mtrain\u001b[49m\u001b[43m(\u001b[49m\u001b[43mtrain_generator\u001b[49m\u001b[43m,\u001b[49m\u001b[43m \u001b[49m\u001b[43mval_generator\u001b[49m\u001b[43m,\u001b[49m\u001b[43m \u001b[49m\u001b[43mepochs\u001b[49m\u001b[38;5;241;43m=\u001b[39;49m\u001b[38;5;241;43m50\u001b[39;49m\u001b[43m,\u001b[49m\u001b[43m \u001b[49m\u001b[43mbatch_size\u001b[49m\u001b[38;5;241;43m=\u001b[39;49m\u001b[43m \u001b[49m\u001b[38;5;241;43m32\u001b[39;49m\u001b[43m)\u001b[49m\n\u001b[0;32m     28\u001b[0m end_time \u001b[38;5;241m=\u001b[39m time\u001b[38;5;241m.\u001b[39mtime()\n\u001b[0;32m     29\u001b[0m test_accuracy, precision, recall, f1 \u001b[38;5;241m=\u001b[39m neural_network_model\u001b[38;5;241m.\u001b[39mevaluate(test_generator)\n",
      "Cell \u001b[1;32mIn[21], line 15\u001b[0m, in \u001b[0;36mNeuralNetworkModel.train\u001b[1;34m(self, train_generator, val_generator, epochs, batch_size)\u001b[0m\n\u001b[0;32m     13\u001b[0m early_stopping \u001b[38;5;241m=\u001b[39m EarlyStopping(monitor\u001b[38;5;241m=\u001b[39m\u001b[38;5;124m'\u001b[39m\u001b[38;5;124mval_loss\u001b[39m\u001b[38;5;124m'\u001b[39m, patience\u001b[38;5;241m=\u001b[39m\u001b[38;5;241m20\u001b[39m, restore_best_weights\u001b[38;5;241m=\u001b[39m\u001b[38;5;28;01mTrue\u001b[39;00m)\n\u001b[0;32m     14\u001b[0m reduce_lr \u001b[38;5;241m=\u001b[39m ReduceLROnPlateau(monitor\u001b[38;5;241m=\u001b[39m\u001b[38;5;124m'\u001b[39m\u001b[38;5;124mval_loss\u001b[39m\u001b[38;5;124m'\u001b[39m, factor\u001b[38;5;241m=\u001b[39m\u001b[38;5;241m0.5\u001b[39m, patience\u001b[38;5;241m=\u001b[39m\u001b[38;5;241m5\u001b[39m, min_lr\u001b[38;5;241m=\u001b[39m\u001b[38;5;241m1e-6\u001b[39m)\n\u001b[1;32m---> 15\u001b[0m history \u001b[38;5;241m=\u001b[39m \u001b[38;5;28;43mself\u001b[39;49m\u001b[38;5;241;43m.\u001b[39;49m\u001b[43mmodel\u001b[49m\u001b[38;5;241;43m.\u001b[39;49m\u001b[43mfit\u001b[49m\u001b[43m(\u001b[49m\u001b[43mtrain_generator\u001b[49m\u001b[43m,\u001b[49m\u001b[43m \u001b[49m\u001b[43mepochs\u001b[49m\u001b[38;5;241;43m=\u001b[39;49m\u001b[43mepochs\u001b[49m\u001b[43m,\u001b[49m\u001b[43m \u001b[49m\u001b[43mbatch_size\u001b[49m\u001b[38;5;241;43m=\u001b[39;49m\u001b[43mbatch_size\u001b[49m\u001b[43m,\u001b[49m\u001b[43m \u001b[49m\u001b[43mvalidation_data\u001b[49m\u001b[38;5;241;43m=\u001b[39;49m\u001b[43mval_generator\u001b[49m\u001b[43m,\u001b[49m\u001b[43m \u001b[49m\u001b[43mcallbacks\u001b[49m\u001b[38;5;241;43m=\u001b[39;49m\u001b[43m[\u001b[49m\u001b[43mearly_stopping\u001b[49m\u001b[43m,\u001b[49m\u001b[43m \u001b[49m\u001b[43mreduce_lr\u001b[49m\u001b[43m]\u001b[49m\u001b[43m)\u001b[49m\n\u001b[0;32m     16\u001b[0m \u001b[38;5;28;01mreturn\u001b[39;00m history\n",
      "File \u001b[1;32m~\\miniconda3\\envs\\py310\\lib\\site-packages\\keras\\engine\\training_v1.py:855\u001b[0m, in \u001b[0;36mModel.fit\u001b[1;34m(self, x, y, batch_size, epochs, verbose, callbacks, validation_split, validation_data, shuffle, class_weight, sample_weight, initial_epoch, steps_per_epoch, validation_steps, validation_freq, max_queue_size, workers, use_multiprocessing, **kwargs)\u001b[0m\n\u001b[0;32m    852\u001b[0m \u001b[38;5;28mself\u001b[39m\u001b[38;5;241m.\u001b[39m_check_call_args(\u001b[38;5;124m\"\u001b[39m\u001b[38;5;124mfit\u001b[39m\u001b[38;5;124m\"\u001b[39m)\n\u001b[0;32m    854\u001b[0m func \u001b[38;5;241m=\u001b[39m \u001b[38;5;28mself\u001b[39m\u001b[38;5;241m.\u001b[39m_select_training_loop(x)\n\u001b[1;32m--> 855\u001b[0m \u001b[38;5;28;01mreturn\u001b[39;00m \u001b[43mfunc\u001b[49m\u001b[38;5;241;43m.\u001b[39;49m\u001b[43mfit\u001b[49m\u001b[43m(\u001b[49m\n\u001b[0;32m    856\u001b[0m \u001b[43m    \u001b[49m\u001b[38;5;28;43mself\u001b[39;49m\u001b[43m,\u001b[49m\n\u001b[0;32m    857\u001b[0m \u001b[43m    \u001b[49m\u001b[43mx\u001b[49m\u001b[38;5;241;43m=\u001b[39;49m\u001b[43mx\u001b[49m\u001b[43m,\u001b[49m\n\u001b[0;32m    858\u001b[0m \u001b[43m    \u001b[49m\u001b[43my\u001b[49m\u001b[38;5;241;43m=\u001b[39;49m\u001b[43my\u001b[49m\u001b[43m,\u001b[49m\n\u001b[0;32m    859\u001b[0m \u001b[43m    \u001b[49m\u001b[43mbatch_size\u001b[49m\u001b[38;5;241;43m=\u001b[39;49m\u001b[43mbatch_size\u001b[49m\u001b[43m,\u001b[49m\n\u001b[0;32m    860\u001b[0m \u001b[43m    \u001b[49m\u001b[43mepochs\u001b[49m\u001b[38;5;241;43m=\u001b[39;49m\u001b[43mepochs\u001b[49m\u001b[43m,\u001b[49m\n\u001b[0;32m    861\u001b[0m \u001b[43m    \u001b[49m\u001b[43mverbose\u001b[49m\u001b[38;5;241;43m=\u001b[39;49m\u001b[43mverbose\u001b[49m\u001b[43m,\u001b[49m\n\u001b[0;32m    862\u001b[0m \u001b[43m    \u001b[49m\u001b[43mcallbacks\u001b[49m\u001b[38;5;241;43m=\u001b[39;49m\u001b[43mcallbacks\u001b[49m\u001b[43m,\u001b[49m\n\u001b[0;32m    863\u001b[0m \u001b[43m    \u001b[49m\u001b[43mvalidation_split\u001b[49m\u001b[38;5;241;43m=\u001b[39;49m\u001b[43mvalidation_split\u001b[49m\u001b[43m,\u001b[49m\n\u001b[0;32m    864\u001b[0m \u001b[43m    \u001b[49m\u001b[43mvalidation_data\u001b[49m\u001b[38;5;241;43m=\u001b[39;49m\u001b[43mvalidation_data\u001b[49m\u001b[43m,\u001b[49m\n\u001b[0;32m    865\u001b[0m \u001b[43m    \u001b[49m\u001b[43mshuffle\u001b[49m\u001b[38;5;241;43m=\u001b[39;49m\u001b[43mshuffle\u001b[49m\u001b[43m,\u001b[49m\n\u001b[0;32m    866\u001b[0m \u001b[43m    \u001b[49m\u001b[43mclass_weight\u001b[49m\u001b[38;5;241;43m=\u001b[39;49m\u001b[43mclass_weight\u001b[49m\u001b[43m,\u001b[49m\n\u001b[0;32m    867\u001b[0m \u001b[43m    \u001b[49m\u001b[43msample_weight\u001b[49m\u001b[38;5;241;43m=\u001b[39;49m\u001b[43msample_weight\u001b[49m\u001b[43m,\u001b[49m\n\u001b[0;32m    868\u001b[0m \u001b[43m    \u001b[49m\u001b[43minitial_epoch\u001b[49m\u001b[38;5;241;43m=\u001b[39;49m\u001b[43minitial_epoch\u001b[49m\u001b[43m,\u001b[49m\n\u001b[0;32m    869\u001b[0m \u001b[43m    \u001b[49m\u001b[43msteps_per_epoch\u001b[49m\u001b[38;5;241;43m=\u001b[39;49m\u001b[43msteps_per_epoch\u001b[49m\u001b[43m,\u001b[49m\n\u001b[0;32m    870\u001b[0m \u001b[43m    \u001b[49m\u001b[43mvalidation_steps\u001b[49m\u001b[38;5;241;43m=\u001b[39;49m\u001b[43mvalidation_steps\u001b[49m\u001b[43m,\u001b[49m\n\u001b[0;32m    871\u001b[0m \u001b[43m    \u001b[49m\u001b[43mvalidation_freq\u001b[49m\u001b[38;5;241;43m=\u001b[39;49m\u001b[43mvalidation_freq\u001b[49m\u001b[43m,\u001b[49m\n\u001b[0;32m    872\u001b[0m \u001b[43m    \u001b[49m\u001b[43mmax_queue_size\u001b[49m\u001b[38;5;241;43m=\u001b[39;49m\u001b[43mmax_queue_size\u001b[49m\u001b[43m,\u001b[49m\n\u001b[0;32m    873\u001b[0m \u001b[43m    \u001b[49m\u001b[43mworkers\u001b[49m\u001b[38;5;241;43m=\u001b[39;49m\u001b[43mworkers\u001b[49m\u001b[43m,\u001b[49m\n\u001b[0;32m    874\u001b[0m \u001b[43m    \u001b[49m\u001b[43muse_multiprocessing\u001b[49m\u001b[38;5;241;43m=\u001b[39;49m\u001b[43muse_multiprocessing\u001b[49m\u001b[43m,\u001b[49m\n\u001b[0;32m    875\u001b[0m \u001b[43m\u001b[49m\u001b[43m)\u001b[49m\n",
      "File \u001b[1;32m~\\miniconda3\\envs\\py310\\lib\\site-packages\\keras\\engine\\training_generator_v1.py:644\u001b[0m, in \u001b[0;36mGeneratorOrSequenceTrainingLoop.fit\u001b[1;34m(self, model, x, y, batch_size, epochs, verbose, callbacks, validation_split, validation_data, shuffle, class_weight, sample_weight, initial_epoch, steps_per_epoch, validation_steps, validation_freq, max_queue_size, workers, use_multiprocessing)\u001b[0m\n\u001b[0;32m    622\u001b[0m \u001b[38;5;28;01mdef\u001b[39;00m \u001b[38;5;21mfit\u001b[39m(\n\u001b[0;32m    623\u001b[0m     \u001b[38;5;28mself\u001b[39m,\n\u001b[0;32m    624\u001b[0m     model,\n\u001b[1;32m   (...)\u001b[0m\n\u001b[0;32m    642\u001b[0m     use_multiprocessing\u001b[38;5;241m=\u001b[39m\u001b[38;5;28;01mFalse\u001b[39;00m,\n\u001b[0;32m    643\u001b[0m ):\n\u001b[1;32m--> 644\u001b[0m     \u001b[43mmodel\u001b[49m\u001b[38;5;241;43m.\u001b[39;49m\u001b[43m_validate_or_infer_batch_size\u001b[49m\u001b[43m(\u001b[49m\u001b[43mbatch_size\u001b[49m\u001b[43m,\u001b[49m\u001b[43m \u001b[49m\u001b[43msteps_per_epoch\u001b[49m\u001b[43m,\u001b[49m\u001b[43m \u001b[49m\u001b[43mx\u001b[49m\u001b[43m)\u001b[49m\n\u001b[0;32m    645\u001b[0m     training_utils_v1\u001b[38;5;241m.\u001b[39mcheck_generator_arguments(\n\u001b[0;32m    646\u001b[0m         y, sample_weight, validation_split\u001b[38;5;241m=\u001b[39mvalidation_split\n\u001b[0;32m    647\u001b[0m     )\n\u001b[0;32m    648\u001b[0m     \u001b[38;5;28;01mreturn\u001b[39;00m fit_generator(\n\u001b[0;32m    649\u001b[0m         model,\n\u001b[0;32m    650\u001b[0m         x,\n\u001b[1;32m   (...)\u001b[0m\n\u001b[0;32m    664\u001b[0m         steps_name\u001b[38;5;241m=\u001b[39m\u001b[38;5;124m\"\u001b[39m\u001b[38;5;124msteps_per_epoch\u001b[39m\u001b[38;5;124m\"\u001b[39m,\n\u001b[0;32m    665\u001b[0m     )\n",
      "File \u001b[1;32m~\\miniconda3\\envs\\py310\\lib\\site-packages\\keras\\engine\\training_v1.py:1887\u001b[0m, in \u001b[0;36mModel._validate_or_infer_batch_size\u001b[1;34m(self, batch_size, steps, x)\u001b[0m\n\u001b[0;32m   1883\u001b[0m \u001b[38;5;28;01mif\u001b[39;00m \u001b[38;5;28misinstance\u001b[39m(\n\u001b[0;32m   1884\u001b[0m     x, (tf\u001b[38;5;241m.\u001b[39mcompat\u001b[38;5;241m.\u001b[39mv1\u001b[38;5;241m.\u001b[39mdata\u001b[38;5;241m.\u001b[39mDataset, tf\u001b[38;5;241m.\u001b[39mdata\u001b[38;5;241m.\u001b[39mDataset, data_utils\u001b[38;5;241m.\u001b[39mSequence)\n\u001b[0;32m   1885\u001b[0m ) \u001b[38;5;129;01mor\u001b[39;00m tf_inspect\u001b[38;5;241m.\u001b[39misgenerator(x):\n\u001b[0;32m   1886\u001b[0m     \u001b[38;5;28;01mif\u001b[39;00m batch_size \u001b[38;5;129;01mis\u001b[39;00m \u001b[38;5;129;01mnot\u001b[39;00m \u001b[38;5;28;01mNone\u001b[39;00m:\n\u001b[1;32m-> 1887\u001b[0m         \u001b[38;5;28;01mraise\u001b[39;00m \u001b[38;5;167;01mValueError\u001b[39;00m(\n\u001b[0;32m   1888\u001b[0m             \u001b[38;5;124m\"\u001b[39m\u001b[38;5;124mThe `batch_size` argument must not be specified for the \u001b[39m\u001b[38;5;124m\"\u001b[39m\n\u001b[0;32m   1889\u001b[0m             \u001b[38;5;124m\"\u001b[39m\u001b[38;5;124mgiven input type. Received input: \u001b[39m\u001b[38;5;124m\"\u001b[39m\n\u001b[0;32m   1890\u001b[0m             \u001b[38;5;124m\"\u001b[39m\u001b[38;5;132;01m{}\u001b[39;00m\u001b[38;5;124m, batch_size: \u001b[39m\u001b[38;5;132;01m{}\u001b[39;00m\u001b[38;5;124m\"\u001b[39m\u001b[38;5;241m.\u001b[39mformat(x, batch_size)\n\u001b[0;32m   1891\u001b[0m         )\n\u001b[0;32m   1892\u001b[0m     \u001b[38;5;28;01mreturn\u001b[39;00m\n\u001b[0;32m   1894\u001b[0m \u001b[38;5;66;03m# Avoids the override in Sequential.layers which filters Input layers.\u001b[39;00m\n\u001b[0;32m   1895\u001b[0m \u001b[38;5;66;03m# (Which are often the very layers that we're after.)\u001b[39;00m\n",
      "\u001b[1;31mValueError\u001b[0m: The `batch_size` argument must not be specified for the given input type. Received input: <keras.preprocessing.sequence.TimeseriesGenerator object at 0x000002EF637464A0>, batch_size: 32"
     ]
    }
   ],
   "source": [
    "# List of optimizers to test for NN\n",
    "optimizers = {\n",
    "    'SGD': SGD(),\n",
    "    'SGD_momentum': SGD(momentum=0.9),\n",
    "    'Nesterov': SGD(momentum=0.9, nesterov=True),\n",
    "    'RMSprop': tf.keras.optimizers.RMSprop(),\n",
    "    'Adagrad': tf.keras.optimizers.Adagrad(),\n",
    "    'Adadelta': tf.keras.optimizers.Adadelta(),\n",
    "    'Adam': Adam(),\n",
    "    'AMSGrad': Adam(amsgrad=True),\n",
    "    'AdamW': AdamW(weight_decay=1e-4),\n",
    "    'Yogi': Yogi(),\n",
    "    'Nadam': tf.keras.optimizers.Nadam(),\n",
    "    'Adamax': tf.keras.optimizers.Adamax()\n",
    "}\n",
    "\n",
    "results = {}\n",
    "\n",
    "# neural_network_model = NeuralNetworkModel()\n",
    "\n",
    "for name, optimizer in optimizers.items():\n",
    "    print(f\"Training model with {name} optimizer...\")\n",
    "    neural_network_model = NeuralNetworkModel()\n",
    "    neural_network_model.build_lstm((window_length, X_train.shape[1]), num_classes= num_classes ,optimizer=optimizer)\n",
    "    start_time = time.time()\n",
    "    # history = neural_network_model.train(train_generator, y_train, val_generator, y_val, epochs=1, batch_size=32)\n",
    "    history = neural_network_model.train(train_generator, val_generator, epochs=50, batch_size= 32)\n",
    "    end_time = time.time()\n",
    "    test_accuracy, precision, recall, f1 = neural_network_model.evaluate(test_generator)\n",
    "    training_time = end_time - start_time\n",
    "    convergence_speed = len(history.history['loss'])\n",
    "    results[name] = {\n",
    "        'test_accuracy': test_accuracy,\n",
    "        'precision': precision,\n",
    "        'recall': recall,\n",
    "        'f1_score': f1,\n",
    "        'convergence_speed': convergence_speed,\n",
    "        'training_time': training_time,\n",
    "        'history': history\n",
    "    }"
   ]
  },
  {
   "cell_type": "code",
   "execution_count": 68,
   "id": "86734410-7f55-42df-a2c7-68e708282398",
   "metadata": {},
   "outputs": [
    {
     "name": "stdout",
     "output_type": "stream",
     "text": [
      "\n",
      "Results:\n",
      "SGD: Test Accuracy - 0.9161, Precision - 0.8463, Recall - 0.9161, F1-score - 0.8792, Convergence Speed - 22 epochs, Training Time - 90.04 seconds\n",
      "SGD_momentum: Test Accuracy - 0.8806, Precision - 0.8591, Recall - 0.8806, F1-score - 0.8593, Convergence Speed - 22 epochs, Training Time - 89.94 seconds\n",
      "Nesterov: Test Accuracy - 0.8786, Precision - 0.8914, Recall - 0.8786, F1-score - 0.8687, Convergence Speed - 22 epochs, Training Time - 88.77 seconds\n",
      "RMSprop: Test Accuracy - 0.8716, Precision - 0.8917, Recall - 0.8716, F1-score - 0.8758, Convergence Speed - 22 epochs, Training Time - 89.99 seconds\n",
      "Adagrad: Test Accuracy - 0.8721, Precision - 0.8251, Recall - 0.8721, F1-score - 0.8473, Convergence Speed - 41 epochs, Training Time - 168.40 seconds\n",
      "Adadelta: Test Accuracy - 0.8746, Precision - 0.7650, Recall - 0.8746, F1-score - 0.8161, Convergence Speed - 50 epochs, Training Time - 202.89 seconds\n",
      "Adam: Test Accuracy - 0.9176, Precision - 0.8698, Recall - 0.9176, F1-score - 0.8923, Convergence Speed - 25 epochs, Training Time - 102.46 seconds\n",
      "AMSGrad: Test Accuracy - 0.8856, Precision - 0.8485, Recall - 0.8856, F1-score - 0.8664, Convergence Speed - 26 epochs, Training Time - 103.46 seconds\n",
      "AdamW: Test Accuracy - 0.8866, Precision - 0.8915, Recall - 0.8866, F1-score - 0.8872, Convergence Speed - 22 epochs, Training Time - 91.62 seconds\n",
      "Yogi: Test Accuracy - 0.8856, Precision - 0.9265, Recall - 0.8856, F1-score - 0.8912, Convergence Speed - 24 epochs, Training Time - 104.36 seconds\n",
      "Nadam: Test Accuracy - 0.8746, Precision - 0.8579, Recall - 0.8746, F1-score - 0.8660, Convergence Speed - 27 epochs, Training Time - 114.59 seconds\n",
      "Adamax: Test Accuracy - 0.8731, Precision - 0.8017, Recall - 0.8731, F1-score - 0.8359, Convergence Speed - 21 epochs, Training Time - 82.54 seconds\n"
     ]
    }
   ],
   "source": [
    "# Print results\n",
    "print(\"\\nResults:\")\n",
    "for name, result in results.items():\n",
    "    print(f\"{name}: Test Accuracy - {result['test_accuracy']:.4f}, \"\n",
    "          f\"Precision - {result['precision']:.4f}, \"\n",
    "          f\"Recall - {result['recall']:.4f}, \"\n",
    "          f\"F1-score - {result['f1_score']:.4f}, \"\n",
    "          f\"Convergence Speed - {result['convergence_speed']} epochs, \"\n",
    "          f\"Training Time - {result['training_time']:.2f} seconds\")"
   ]
  },
  {
   "cell_type": "code",
   "execution_count": 69,
   "id": "3eb83749-1c77-44e1-9aed-214b1fca7a89",
   "metadata": {},
   "outputs": [
    {
     "data": {
      "text/html": [
       "<div>\n",
       "<style scoped>\n",
       "    .dataframe tbody tr th:only-of-type {\n",
       "        vertical-align: middle;\n",
       "    }\n",
       "\n",
       "    .dataframe tbody tr th {\n",
       "        vertical-align: top;\n",
       "    }\n",
       "\n",
       "    .dataframe thead th {\n",
       "        text-align: right;\n",
       "    }\n",
       "</style>\n",
       "<table border=\"1\" class=\"dataframe\">\n",
       "  <thead>\n",
       "    <tr style=\"text-align: right;\">\n",
       "      <th></th>\n",
       "      <th>Data Name</th>\n",
       "      <th>Data Size</th>\n",
       "      <th>Number of Features</th>\n",
       "      <th>Target Feature Type</th>\n",
       "      <th>Neural Network Architecture</th>\n",
       "      <th>Optimization Method</th>\n",
       "      <th>Test Accuracy</th>\n",
       "      <th>Precision</th>\n",
       "      <th>Recall</th>\n",
       "      <th>F1-score</th>\n",
       "      <th>Convergence Speed</th>\n",
       "      <th>Training Time</th>\n",
       "      <th>Training Loss</th>\n",
       "      <th>Validation Loss</th>\n",
       "    </tr>\n",
       "  </thead>\n",
       "  <tbody>\n",
       "    <tr>\n",
       "      <th>0</th>\n",
       "      <td>Room Occupancy Estimation</td>\n",
       "      <td>7292</td>\n",
       "      <td>28</td>\n",
       "      <td>float32</td>\n",
       "      <td>LSTM</td>\n",
       "      <td>SGD</td>\n",
       "      <td>0.916084</td>\n",
       "      <td>0.846304</td>\n",
       "      <td>0.916084</td>\n",
       "      <td>0.879220</td>\n",
       "      <td>22</td>\n",
       "      <td>90.041713</td>\n",
       "      <td>0.759313</td>\n",
       "      <td>0.184539</td>\n",
       "    </tr>\n",
       "    <tr>\n",
       "      <th>1</th>\n",
       "      <td>Room Occupancy Estimation</td>\n",
       "      <td>7292</td>\n",
       "      <td>28</td>\n",
       "      <td>float32</td>\n",
       "      <td>LSTM</td>\n",
       "      <td>SGD_momentum</td>\n",
       "      <td>0.880619</td>\n",
       "      <td>0.859123</td>\n",
       "      <td>0.880619</td>\n",
       "      <td>0.859256</td>\n",
       "      <td>22</td>\n",
       "      <td>89.944379</td>\n",
       "      <td>0.440969</td>\n",
       "      <td>0.164617</td>\n",
       "    </tr>\n",
       "    <tr>\n",
       "      <th>2</th>\n",
       "      <td>Room Occupancy Estimation</td>\n",
       "      <td>7292</td>\n",
       "      <td>28</td>\n",
       "      <td>float32</td>\n",
       "      <td>LSTM</td>\n",
       "      <td>Nesterov</td>\n",
       "      <td>0.878621</td>\n",
       "      <td>0.891386</td>\n",
       "      <td>0.878621</td>\n",
       "      <td>0.868709</td>\n",
       "      <td>22</td>\n",
       "      <td>88.765928</td>\n",
       "      <td>0.435264</td>\n",
       "      <td>0.170247</td>\n",
       "    </tr>\n",
       "    <tr>\n",
       "      <th>3</th>\n",
       "      <td>Room Occupancy Estimation</td>\n",
       "      <td>7292</td>\n",
       "      <td>28</td>\n",
       "      <td>float32</td>\n",
       "      <td>LSTM</td>\n",
       "      <td>RMSprop</td>\n",
       "      <td>0.871628</td>\n",
       "      <td>0.891688</td>\n",
       "      <td>0.871628</td>\n",
       "      <td>0.875826</td>\n",
       "      <td>22</td>\n",
       "      <td>89.987480</td>\n",
       "      <td>0.447541</td>\n",
       "      <td>0.191171</td>\n",
       "    </tr>\n",
       "    <tr>\n",
       "      <th>4</th>\n",
       "      <td>Room Occupancy Estimation</td>\n",
       "      <td>7292</td>\n",
       "      <td>28</td>\n",
       "      <td>float32</td>\n",
       "      <td>LSTM</td>\n",
       "      <td>Adagrad</td>\n",
       "      <td>0.872128</td>\n",
       "      <td>0.825090</td>\n",
       "      <td>0.872128</td>\n",
       "      <td>0.847251</td>\n",
       "      <td>41</td>\n",
       "      <td>168.396581</td>\n",
       "      <td>1.213330</td>\n",
       "      <td>1.011286</td>\n",
       "    </tr>\n",
       "    <tr>\n",
       "      <th>5</th>\n",
       "      <td>Room Occupancy Estimation</td>\n",
       "      <td>7292</td>\n",
       "      <td>28</td>\n",
       "      <td>float32</td>\n",
       "      <td>LSTM</td>\n",
       "      <td>Adadelta</td>\n",
       "      <td>0.874625</td>\n",
       "      <td>0.764970</td>\n",
       "      <td>0.874625</td>\n",
       "      <td>0.816131</td>\n",
       "      <td>50</td>\n",
       "      <td>202.893102</td>\n",
       "      <td>1.421676</td>\n",
       "      <td>1.435720</td>\n",
       "    </tr>\n",
       "    <tr>\n",
       "      <th>6</th>\n",
       "      <td>Room Occupancy Estimation</td>\n",
       "      <td>7292</td>\n",
       "      <td>28</td>\n",
       "      <td>float32</td>\n",
       "      <td>LSTM</td>\n",
       "      <td>Adam</td>\n",
       "      <td>0.917582</td>\n",
       "      <td>0.869754</td>\n",
       "      <td>0.917582</td>\n",
       "      <td>0.892261</td>\n",
       "      <td>25</td>\n",
       "      <td>102.464213</td>\n",
       "      <td>0.465135</td>\n",
       "      <td>0.155277</td>\n",
       "    </tr>\n",
       "    <tr>\n",
       "      <th>7</th>\n",
       "      <td>Room Occupancy Estimation</td>\n",
       "      <td>7292</td>\n",
       "      <td>28</td>\n",
       "      <td>float32</td>\n",
       "      <td>LSTM</td>\n",
       "      <td>AMSGrad</td>\n",
       "      <td>0.885614</td>\n",
       "      <td>0.848546</td>\n",
       "      <td>0.885614</td>\n",
       "      <td>0.866401</td>\n",
       "      <td>26</td>\n",
       "      <td>103.461356</td>\n",
       "      <td>0.451767</td>\n",
       "      <td>0.171558</td>\n",
       "    </tr>\n",
       "    <tr>\n",
       "      <th>8</th>\n",
       "      <td>Room Occupancy Estimation</td>\n",
       "      <td>7292</td>\n",
       "      <td>28</td>\n",
       "      <td>float32</td>\n",
       "      <td>LSTM</td>\n",
       "      <td>AdamW</td>\n",
       "      <td>0.886613</td>\n",
       "      <td>0.891469</td>\n",
       "      <td>0.886613</td>\n",
       "      <td>0.887176</td>\n",
       "      <td>22</td>\n",
       "      <td>91.621100</td>\n",
       "      <td>0.480431</td>\n",
       "      <td>0.152578</td>\n",
       "    </tr>\n",
       "    <tr>\n",
       "      <th>9</th>\n",
       "      <td>Room Occupancy Estimation</td>\n",
       "      <td>7292</td>\n",
       "      <td>28</td>\n",
       "      <td>float32</td>\n",
       "      <td>LSTM</td>\n",
       "      <td>Yogi</td>\n",
       "      <td>0.885614</td>\n",
       "      <td>0.926485</td>\n",
       "      <td>0.885614</td>\n",
       "      <td>0.891243</td>\n",
       "      <td>24</td>\n",
       "      <td>104.356878</td>\n",
       "      <td>0.461549</td>\n",
       "      <td>0.197129</td>\n",
       "    </tr>\n",
       "    <tr>\n",
       "      <th>10</th>\n",
       "      <td>Room Occupancy Estimation</td>\n",
       "      <td>7292</td>\n",
       "      <td>28</td>\n",
       "      <td>float32</td>\n",
       "      <td>LSTM</td>\n",
       "      <td>Nadam</td>\n",
       "      <td>0.874625</td>\n",
       "      <td>0.857949</td>\n",
       "      <td>0.874625</td>\n",
       "      <td>0.866045</td>\n",
       "      <td>27</td>\n",
       "      <td>114.588711</td>\n",
       "      <td>0.465077</td>\n",
       "      <td>0.147555</td>\n",
       "    </tr>\n",
       "    <tr>\n",
       "      <th>11</th>\n",
       "      <td>Room Occupancy Estimation</td>\n",
       "      <td>7292</td>\n",
       "      <td>28</td>\n",
       "      <td>float32</td>\n",
       "      <td>LSTM</td>\n",
       "      <td>Adamax</td>\n",
       "      <td>0.873127</td>\n",
       "      <td>0.801702</td>\n",
       "      <td>0.873127</td>\n",
       "      <td>0.835891</td>\n",
       "      <td>21</td>\n",
       "      <td>82.543702</td>\n",
       "      <td>0.653671</td>\n",
       "      <td>0.123960</td>\n",
       "    </tr>\n",
       "  </tbody>\n",
       "</table>\n",
       "</div>"
      ],
      "text/plain": [
       "                    Data Name  Data Size  Number of Features  \\\n",
       "0   Room Occupancy Estimation       7292                  28   \n",
       "1   Room Occupancy Estimation       7292                  28   \n",
       "2   Room Occupancy Estimation       7292                  28   \n",
       "3   Room Occupancy Estimation       7292                  28   \n",
       "4   Room Occupancy Estimation       7292                  28   \n",
       "5   Room Occupancy Estimation       7292                  28   \n",
       "6   Room Occupancy Estimation       7292                  28   \n",
       "7   Room Occupancy Estimation       7292                  28   \n",
       "8   Room Occupancy Estimation       7292                  28   \n",
       "9   Room Occupancy Estimation       7292                  28   \n",
       "10  Room Occupancy Estimation       7292                  28   \n",
       "11  Room Occupancy Estimation       7292                  28   \n",
       "\n",
       "   Target Feature Type Neural Network Architecture Optimization Method  \\\n",
       "0              float32                        LSTM                 SGD   \n",
       "1              float32                        LSTM        SGD_momentum   \n",
       "2              float32                        LSTM            Nesterov   \n",
       "3              float32                        LSTM             RMSprop   \n",
       "4              float32                        LSTM             Adagrad   \n",
       "5              float32                        LSTM            Adadelta   \n",
       "6              float32                        LSTM                Adam   \n",
       "7              float32                        LSTM             AMSGrad   \n",
       "8              float32                        LSTM               AdamW   \n",
       "9              float32                        LSTM                Yogi   \n",
       "10             float32                        LSTM               Nadam   \n",
       "11             float32                        LSTM              Adamax   \n",
       "\n",
       "    Test Accuracy  Precision    Recall  F1-score  Convergence Speed  \\\n",
       "0        0.916084   0.846304  0.916084  0.879220                 22   \n",
       "1        0.880619   0.859123  0.880619  0.859256                 22   \n",
       "2        0.878621   0.891386  0.878621  0.868709                 22   \n",
       "3        0.871628   0.891688  0.871628  0.875826                 22   \n",
       "4        0.872128   0.825090  0.872128  0.847251                 41   \n",
       "5        0.874625   0.764970  0.874625  0.816131                 50   \n",
       "6        0.917582   0.869754  0.917582  0.892261                 25   \n",
       "7        0.885614   0.848546  0.885614  0.866401                 26   \n",
       "8        0.886613   0.891469  0.886613  0.887176                 22   \n",
       "9        0.885614   0.926485  0.885614  0.891243                 24   \n",
       "10       0.874625   0.857949  0.874625  0.866045                 27   \n",
       "11       0.873127   0.801702  0.873127  0.835891                 21   \n",
       "\n",
       "    Training Time  Training Loss  Validation Loss  \n",
       "0       90.041713       0.759313         0.184539  \n",
       "1       89.944379       0.440969         0.164617  \n",
       "2       88.765928       0.435264         0.170247  \n",
       "3       89.987480       0.447541         0.191171  \n",
       "4      168.396581       1.213330         1.011286  \n",
       "5      202.893102       1.421676         1.435720  \n",
       "6      102.464213       0.465135         0.155277  \n",
       "7      103.461356       0.451767         0.171558  \n",
       "8       91.621100       0.480431         0.152578  \n",
       "9      104.356878       0.461549         0.197129  \n",
       "10     114.588711       0.465077         0.147555  \n",
       "11      82.543702       0.653671         0.123960  "
      ]
     },
     "execution_count": 69,
     "metadata": {},
     "output_type": "execute_result"
    }
   ],
   "source": [
    "# Data extraction for the summary\n",
    "data_info = {\n",
    "    'Data Name': [\"Room Occupancy Estimation\"] * len(optimizers),\n",
    "    'Data Size': [X_train.shape[0]] * len(optimizers),\n",
    "    'Number of Features': [X_train.shape[1]] * len(optimizers),\n",
    "    'Target Feature Type': [y_train.dtype] * len(optimizers),\n",
    "    'Neural Network Architecture': [\"LSTM\"] * len(optimizers),\n",
    "    'Optimization Method': list(optimizers.keys())\n",
    "}\n",
    "\n",
    "# Extract results for each optimization method\n",
    "results_info = {\n",
    "    'Optimization Method': [],\n",
    "    'Test Accuracy': [],\n",
    "    'Precision': [],\n",
    "    'Recall': [],\n",
    "    'F1-score': [],\n",
    "    'Convergence Speed': [],\n",
    "    'Training Time': [],\n",
    "    'Training Loss': [],\n",
    "    'Validation Loss': []\n",
    "}\n",
    "\n",
    "# Add the evaluation results for each optimizer\n",
    "for optimizer, result in results.items():\n",
    "    results_info['Optimization Method'].append(optimizer)\n",
    "    results_info['Test Accuracy'].append(result['test_accuracy'])\n",
    "    results_info['Precision'].append(result['precision'])\n",
    "    results_info['Recall'].append(result['recall'])\n",
    "    results_info['F1-score'].append(result['f1_score'])\n",
    "    results_info['Convergence Speed'].append(result['convergence_speed'])\n",
    "    results_info['Training Time'].append(result['training_time'])\n",
    "    results_info['Training Loss'].append(result['history'].history['loss'][0])\n",
    "    results_info['Validation Loss'].append(result['history'].history['val_loss'][0])\n",
    "\n",
    "# Create DataFrames and merge them for final results\n",
    "data_df = pd.DataFrame(data_info)\n",
    "results_df = pd.DataFrame(results_info)\n",
    "final_df = pd.merge(data_df, results_df, on='Optimization Method')\n",
    "\n",
    "# Show the final merged data\n",
    "final_df.head(12)"
   ]
  },
  {
   "cell_type": "code",
   "execution_count": 70,
   "id": "60e7aa15-ed88-40a6-8394-630e6466ceb8",
   "metadata": {},
   "outputs": [
    {
     "data": {
      "image/png": "[encoded data removed]",
      "text/plain": [
       "<Figure size 1000x600 with 1 Axes>"
      ]
     },
     "metadata": {},
     "output_type": "display_data"
    }
   ],
   "source": [
    "# Import necessary libraries\n",
    "import matplotlib.pyplot as plt\n",
    "\n",
    "# Plot Test Accuracy per Optimizer per Epoch\n",
    "plt.figure(figsize=(10, 6))\n",
    "\n",
    "# Loop through results to access each optimizer's training history\n",
    "for optimizer_name, result in results.items():\n",
    "    # Retrieve the validation accuracy history for this optimizer\n",
    "    if 'val_accuracy' in result['history'].history:\n",
    "        val_acc_history = result['history'].history['val_accuracy']\n",
    "    else:\n",
    "        # Sometimes the key might be 'val_acc', depending on TensorFlow version\n",
    "        val_acc_history = result['history'].history.get('val_acc', [])\n",
    "\n",
    "    # Plot the validation accuracy history\n",
    "    plt.plot(range(1, len(val_acc_history) + 1), val_acc_history, label=optimizer_name)\n",
    "\n",
    "plt.xlabel('Epoch')\n",
    "plt.ylabel('Validation Accuracy')\n",
    "plt.title('Validation Accuracy per Optimizer per Epoch')\n",
    "plt.legend(loc='lower right')\n",
    "plt.grid(True)\n",
    "plt.tight_layout()\n",
    "plt.show()\n"
   ]
  },
  {
   "cell_type": "code",
   "execution_count": 71,
   "id": "89bbf5ab-d321-4050-be25-cac9eb04c556",
   "metadata": {},
   "outputs": [
    {
     "data": {
      "image/png": "[encoded data removed]",
      "text/plain": [
       "<Figure size 1000x600 with 1 Axes>"
      ]
     },
     "metadata": {},
     "output_type": "display_data"
    }
   ],
   "source": [
    "# Import necessary libraries\n",
    "import matplotlib.pyplot as plt\n",
    "\n",
    "# Plot Training Loss per Optimizer per Epoch\n",
    "plt.figure(figsize=(10, 6))\n",
    "\n",
    "# Loop through results to access each optimizer's training history\n",
    "for optimizer_name, result in results.items():\n",
    "    # Retrieve the training loss history for this optimizer\n",
    "    if 'loss' in result['history'].history:\n",
    "        loss_history = result['history'].history['loss']\n",
    "    else:\n",
    "        # In case the loss key isn't found (unexpected behavior), use a default empty list\n",
    "        loss_history = []\n",
    "\n",
    "    # Plot the training loss history\n",
    "    plt.plot(range(1, len(loss_history) + 1), loss_history, label=optimizer_name)\n",
    "\n",
    "# Set plot labels and titles\n",
    "plt.xlabel('Epoch')\n",
    "plt.ylabel('Training Loss')\n",
    "plt.title('Training Loss per Optimizer per Epoch')\n",
    "plt.legend(loc='upper right')\n",
    "plt.grid(True)\n",
    "plt.tight_layout()\n",
    "plt.show()\n"
   ]
  },
  {
   "cell_type": "code",
   "execution_count": 72,
   "id": "7371bb6e-21df-473a-8d79-b53276b28564",
   "metadata": {},
   "outputs": [],
   "source": [
    "final_df.to_csv('Room Occupancy Estimation.csv', index=False)"
   ]
  },
  {
   "cell_type": "code",
   "execution_count": null,
   "id": "ab8e0f0a-b43b-472f-a9f7-8f0affd2b092",
   "metadata": {},
   "outputs": [],
   "source": []
  },
  {
   "cell_type": "code",
   "execution_count": null,
   "id": "422363e0-ab79-480b-83c8-e4c1ac1431c4",
   "metadata": {},
   "outputs": [],
   "source": []
  },
  {
   "cell_type": "code",
   "execution_count": null,
   "id": "0b24507b-e561-4f1f-be73-13d6a1dd5243",
   "metadata": {},
   "outputs": [],
   "source": []
  },
  {
   "cell_type": "code",
   "execution_count": null,
   "id": "2ee747c0-b618-4b8b-bc00-496a1073919d",
   "metadata": {},
   "outputs": [],
   "source": []
  },
  {
   "cell_type": "code",
   "execution_count": null,
   "id": "ef2a693b-47f2-462e-b0a0-0989641801e1",
   "metadata": {},
   "outputs": [],
   "source": []
  },
  {
   "cell_type": "code",
   "execution_count": null,
   "id": "b96c8180-27d4-40b1-9951-7e000595eeb0",
   "metadata": {},
   "outputs": [],
   "source": []
  },
  {
   "cell_type": "code",
   "execution_count": 41,
   "id": "c1ff5813-ff42-48de-86b9-d150a906c167",
   "metadata": {},
   "outputs": [],
   "source": [
    "# # Define and train the LSTM model\n",
    "# model = Sequential([\n",
    "#     LSTM(50, activation='relu', input_shape=(window_length, X_train.shape[1])),\n",
    "#     Dense(4, activation='softmax')\n",
    "# ])\n",
    "\n",
    "# model.compile(optimizer='adam', loss='categorical_crossentropy', metrics=['accuracy'])\n",
    "# model.fit(train_generator, epochs=3, validation_data=val_generator)\n",
    "\n",
    "# # Evaluate the model on test data\n",
    "# loss, accuracy = model.evaluate(test_generator)\n",
    "# print(\"Test Loss:\", loss)\n",
    "# print(\"Test Accuracy:\", accuracy)"
   ]
  },
  {
   "cell_type": "code",
   "execution_count": 23,
   "id": "5726f00b-0571-4c68-8c54-ec73563c21b2",
   "metadata": {},
   "outputs": [
    {
     "name": "stdout",
     "output_type": "stream",
     "text": [
      "63/63 [==============================] - 1s 16ms/step\n",
      "Precision: 0.8702920358967482\n",
      "Recall: 0.8766233766233766\n",
      "F1 Score: 0.8727047839848051\n"
     ]
    }
   ],
   "source": [
    "# # Generate predictions\n",
    "# y_pred_prob = model.predict(test_generator)\n",
    "# y_pred = np.argmax(y_pred_prob, axis=1)\n",
    "\n",
    "# # Extract true labels from test generator\n",
    "# y_true = []\n",
    "# for i in range(len(test_generator)):\n",
    "#     _, labels = test_generator[i]\n",
    "#     y_true.extend(labels)\n",
    "# y_true = np.argmax(y_true, axis=1)\n",
    "\n",
    "# # Compute additional evaluation metrics\n",
    "# precision = precision_score(y_true, y_pred, average='weighted')\n",
    "# recall = recall_score(y_true, y_pred, average='weighted')\n",
    "# f1 = f1_score(y_true, y_pred, average='weighted')\n",
    "\n",
    "# print(\"Precision:\", precision)\n",
    "# print(\"Recall:\", recall)\n",
    "# print(\"F1 Score:\", f1)"
   ]
  },
  {
   "cell_type": "code",
   "execution_count": null,
   "id": "a8656600-a3df-4508-800c-0faa4dfdbfa9",
   "metadata": {},
   "outputs": [],
   "source": []
  },
  {
   "cell_type": "code",
   "execution_count": null,
   "id": "5a16453e-4600-4c32-82d1-c1f8aca199f7",
   "metadata": {},
   "outputs": [],
   "source": []
  },
  {
   "cell_type": "code",
   "execution_count": null,
   "id": "37853832-5b21-42c3-a275-ac09d92307ef",
   "metadata": {},
   "outputs": [],
   "source": []
  },
  {
   "cell_type": "code",
   "execution_count": null,
   "id": "c2a2b484-3c18-4153-af1b-a1364212a39b",
   "metadata": {},
   "outputs": [],
   "source": []
  },
  {
   "cell_type": "code",
   "execution_count": null,
   "id": "17e3ae29-cb1e-4ee2-a86f-fb212875e215",
   "metadata": {},
   "outputs": [],
   "source": []
  },
  {
   "cell_type": "code",
   "execution_count": 24,
   "id": "dcde5055-fb9a-4466-b350-e692e48c44e6",
   "metadata": {},
   "outputs": [],
   "source": [
    "# # Define the NeuralNetworkModel class\n",
    "# class NeuralNetworkModel:\n",
    "#     def __init__(self):\n",
    "#         self.model = None\n",
    "\n",
    "#     def build_ann(self, input_shape, optimizer):\n",
    "#         self.model = Sequential([\n",
    "#             LSTM(50, activation='relu', input_shape=(window_length, X_train.shape[1])),\n",
    "#             Dense(4, activation='softmax')\n",
    "#         ])\n",
    "#         self.model.compile(optimizer=optimizer, loss='categorical_crossentropy', metrics=['accuracy'])\n",
    "\n",
    "#     def train(self, X_train, X_val, epochs, batch_size):\n",
    "#         early_stopping = EarlyStopping(monitor='val_loss', patience=20, restore_best_weights=True)\n",
    "#         reduce_lr = ReduceLROnPlateau(monitor='val_loss', factor=0.5, patience=5, min_lr=1e-6)\n",
    "#         return self.model.fit( X_train, X_val, epochs=1, batch_size=32, callbacks=[early_stopping, reduce_lr]\n",
    "#         # return self.model.fit( X_train, X_val, epochs=1, batch_size=32\n",
    "#     )\n",
    "\n",
    "    \n",
    "#     def evaluate(self, X_test):\n",
    "#         y_pred_prob = self.model.predict(X_test)\n",
    "#         y_pred = np.argmax(y_pred_prob, axis=1)\n",
    "#         accuracy = accuracy_score(y_test, y_pred)\n",
    "#         precision = precision_score(y_test, y_pred, average='weighted')\n",
    "#         recall = recall_score(y_test, y_pred, average='weighted')\n",
    "#         f1 = f1_score(y_test, y_pred, average='weighted')\n",
    "#         return accuracy, precision, recall, f1"
   ]
  },
  {
   "cell_type": "code",
   "execution_count": null,
   "id": "5016dd25-2c11-4102-9844-32c8ae3f3c35",
   "metadata": {},
   "outputs": [],
   "source": []
  },
  {
   "cell_type": "code",
   "execution_count": null,
   "id": "129f2385-3596-4cc9-b6d1-319a92c3e671",
   "metadata": {},
   "outputs": [],
   "source": []
  },
  {
   "cell_type": "code",
   "execution_count": null,
   "id": "47b3a4b7-1811-46ac-854e-a034a890e597",
   "metadata": {},
   "outputs": [],
   "source": []
  },
  {
   "cell_type": "code",
   "execution_count": null,
   "id": "af0ff9a5-4019-43e5-876f-3a4d924ecb8b",
   "metadata": {},
   "outputs": [],
   "source": []
  },
  {
   "cell_type": "code",
   "execution_count": null,
   "id": "b69384f6-e5ec-4898-9ec1-dba0be69e000",
   "metadata": {},
   "outputs": [],
   "source": []
  },
  {
   "cell_type": "code",
   "execution_count": null,
   "id": "1c3316a5-b84e-4ab0-88a8-b5cc848b4bb0",
   "metadata": {},
   "outputs": [],
   "source": []
  },
  {
   "cell_type": "code",
   "execution_count": null,
   "id": "b54bd38a-8785-4f32-9439-a747ae244d15",
   "metadata": {},
   "outputs": [],
   "source": []
  },
  {
   "cell_type": "code",
   "execution_count": 59,
   "id": "fe8416be-a94e-4779-9d21-a0cd7f67f838",
   "metadata": {},
   "outputs": [
    {
     "name": "stderr",
     "output_type": "stream",
     "text": [
      "C:\\Users\\werka\\miniconda3\\envs\\py310\\lib\\site-packages\\sklearn\\utils\\validation.py:1184: DataConversionWarning: A column-vector y was passed when a 1d array was expected. Please change the shape of y to (n_samples, ), for example using ravel().\n",
      "  y = column_or_1d(y, warn=True)\n"
     ]
    }
   ],
   "source": [
    "# Select features with high correlation to the target\n",
    "k_best_features = SelectKBest(score_func=f_regression, k=5)\n",
    "k_best_features.fit(df, y)\n",
    "selected_features = df.columns[k_best_features.get_support(indices=True)].tolist()\n"
   ]
  },
  {
   "cell_type": "code",
   "execution_count": 60,
   "id": "386b961e-8587-4267-a0dd-87bac3f22e3a",
   "metadata": {},
   "outputs": [],
   "source": [
    "# Select the relevant columns from the DataFrame\n",
    "X_selected = df[selected_features]"
   ]
  },
  {
   "cell_type": "code",
   "execution_count": 105,
   "id": "220fa032-6dfe-4b5c-924f-330b8538c0fc",
   "metadata": {},
   "outputs": [
    {
     "data": {
      "text/html": [
       "<div>\n",
       "<style scoped>\n",
       "    .dataframe tbody tr th:only-of-type {\n",
       "        vertical-align: middle;\n",
       "    }\n",
       "\n",
       "    .dataframe tbody tr th {\n",
       "        vertical-align: top;\n",
       "    }\n",
       "\n",
       "    .dataframe thead th {\n",
       "        text-align: right;\n",
       "    }\n",
       "</style>\n",
       "<table border=\"1\" class=\"dataframe\">\n",
       "  <thead>\n",
       "    <tr style=\"text-align: right;\">\n",
       "      <th></th>\n",
       "      <th>S1_Temp</th>\n",
       "      <th>S1_Light</th>\n",
       "      <th>S2_Light</th>\n",
       "      <th>S3_Light</th>\n",
       "      <th>S7_PIR</th>\n",
       "    </tr>\n",
       "  </thead>\n",
       "  <tbody>\n",
       "    <tr>\n",
       "      <th>0</th>\n",
       "      <td>24.94</td>\n",
       "      <td>121</td>\n",
       "      <td>34</td>\n",
       "      <td>53</td>\n",
       "      <td>0</td>\n",
       "    </tr>\n",
       "    <tr>\n",
       "      <th>1</th>\n",
       "      <td>24.94</td>\n",
       "      <td>121</td>\n",
       "      <td>33</td>\n",
       "      <td>53</td>\n",
       "      <td>0</td>\n",
       "    </tr>\n",
       "    <tr>\n",
       "      <th>2</th>\n",
       "      <td>25.00</td>\n",
       "      <td>121</td>\n",
       "      <td>34</td>\n",
       "      <td>53</td>\n",
       "      <td>0</td>\n",
       "    </tr>\n",
       "    <tr>\n",
       "      <th>3</th>\n",
       "      <td>25.00</td>\n",
       "      <td>121</td>\n",
       "      <td>34</td>\n",
       "      <td>53</td>\n",
       "      <td>0</td>\n",
       "    </tr>\n",
       "    <tr>\n",
       "      <th>4</th>\n",
       "      <td>25.00</td>\n",
       "      <td>121</td>\n",
       "      <td>34</td>\n",
       "      <td>54</td>\n",
       "      <td>0</td>\n",
       "    </tr>\n",
       "    <tr>\n",
       "      <th>...</th>\n",
       "      <td>...</td>\n",
       "      <td>...</td>\n",
       "      <td>...</td>\n",
       "      <td>...</td>\n",
       "      <td>...</td>\n",
       "    </tr>\n",
       "    <tr>\n",
       "      <th>10124</th>\n",
       "      <td>25.06</td>\n",
       "      <td>6</td>\n",
       "      <td>7</td>\n",
       "      <td>33</td>\n",
       "      <td>0</td>\n",
       "    </tr>\n",
       "    <tr>\n",
       "      <th>10125</th>\n",
       "      <td>25.06</td>\n",
       "      <td>6</td>\n",
       "      <td>7</td>\n",
       "      <td>34</td>\n",
       "      <td>0</td>\n",
       "    </tr>\n",
       "    <tr>\n",
       "      <th>10126</th>\n",
       "      <td>25.13</td>\n",
       "      <td>6</td>\n",
       "      <td>7</td>\n",
       "      <td>34</td>\n",
       "      <td>0</td>\n",
       "    </tr>\n",
       "    <tr>\n",
       "      <th>10127</th>\n",
       "      <td>25.13</td>\n",
       "      <td>6</td>\n",
       "      <td>7</td>\n",
       "      <td>34</td>\n",
       "      <td>0</td>\n",
       "    </tr>\n",
       "    <tr>\n",
       "      <th>10128</th>\n",
       "      <td>25.13</td>\n",
       "      <td>6</td>\n",
       "      <td>7</td>\n",
       "      <td>34</td>\n",
       "      <td>0</td>\n",
       "    </tr>\n",
       "  </tbody>\n",
       "</table>\n",
       "<p>10129 rows × 5 columns</p>\n",
       "</div>"
      ],
      "text/plain": [
       "       S1_Temp  S1_Light  S2_Light  S3_Light  S7_PIR\n",
       "0        24.94       121        34        53       0\n",
       "1        24.94       121        33        53       0\n",
       "2        25.00       121        34        53       0\n",
       "3        25.00       121        34        53       0\n",
       "4        25.00       121        34        54       0\n",
       "...        ...       ...       ...       ...     ...\n",
       "10124    25.06         6         7        33       0\n",
       "10125    25.06         6         7        34       0\n",
       "10126    25.13         6         7        34       0\n",
       "10127    25.13         6         7        34       0\n",
       "10128    25.13         6         7        34       0\n",
       "\n",
       "[10129 rows x 5 columns]"
      ]
     },
     "execution_count": 105,
     "metadata": {},
     "output_type": "execute_result"
    }
   ],
   "source": [
    "X_selected"
   ]
  },
  {
   "cell_type": "code",
   "execution_count": 61,
   "id": "a0d6511b-0c7f-41ee-bc1d-2d472cdd76e3",
   "metadata": {},
   "outputs": [],
   "source": [
    "df[\"Room_Occupancy_Count\"] = y"
   ]
  },
  {
   "cell_type": "code",
   "execution_count": 66,
   "id": "ff3b96f3-ebd5-44e5-99c3-bd311aa68b1b",
   "metadata": {},
   "outputs": [
    {
     "data": {
      "image/png": "[encoded data removed]",
      "text/plain": [
       "<Figure size 1200x800 with 2 Axes>"
      ]
     },
     "metadata": {},
     "output_type": "display_data"
    }
   ],
   "source": [
    "# Calculate the correlation matrix\n",
    "corr_matrix = df.corr()\n",
    "\n",
    "# Plot heatmap\n",
    "plt.figure(figsize=(12, 8))\n",
    "sns.heatmap(corr_matrix, annot=True, cmap='coolwarm', fmt=\".2f\", linewidths=0.5)\n",
    "plt.title('Correlation Heatmap')\n",
    "plt.show()"
   ]
  },
  {
   "cell_type": "code",
   "execution_count": 72,
   "id": "7371cb51-c72f-41eb-9fb9-ba55d6506448",
   "metadata": {},
   "outputs": [],
   "source": [
    "from tensorflow.keras.models import Sequential\n",
    "from tensorflow.keras.layers import LSTM, Dense"
   ]
  },
  {
   "cell_type": "code",
   "execution_count": 67,
   "id": "b9ead14e-8683-44d9-adf1-1084a50d062c",
   "metadata": {},
   "outputs": [],
   "source": [
    "# Normalize the data\n",
    "scaler = MinMaxScaler()\n",
    "X_normalized = scaler.fit_transform(X_selected)"
   ]
  },
  {
   "cell_type": "code",
   "execution_count": 68,
   "id": "4ca684ea-5b94-466c-98cd-2f94d4ac8c37",
   "metadata": {},
   "outputs": [],
   "source": [
    "# Split the data into training, validation, and test sets\n",
    "X_train, X_test, y_train, y_test = train_test_split(X_normalized, y, test_size=0.2, shuffle=False)\n",
    "X_train, X_val, y_train, y_val = train_test_split(X_train, y_train, test_size=0.1, shuffle=False)\n"
   ]
  },
  {
   "cell_type": "code",
   "execution_count": 76,
   "id": "7a84ab1d-bc1a-4d6e-ba11-027c3af73880",
   "metadata": {},
   "outputs": [
    {
     "data": {
      "text/plain": [
       "(7292, 5)"
      ]
     },
     "execution_count": 76,
     "metadata": {},
     "output_type": "execute_result"
    }
   ],
   "source": [
    "X_train.shape"
   ]
  },
  {
   "cell_type": "code",
   "execution_count": 104,
   "id": "42d969ed-fd75-4200-b8a6-580480e2983a",
   "metadata": {},
   "outputs": [
    {
     "data": {
      "text/plain": [
       "array([[0.        , 0.73333333, 0.13178295, 0.18928571, 0.        ],\n",
       "       [0.        , 0.73333333, 0.12790698, 0.18928571, 0.        ],\n",
       "       [0.04166667, 0.73333333, 0.13178295, 0.18928571, 0.        ],\n",
       "       ...,\n",
       "       [0.25694444, 0.        , 0.        , 0.        , 0.        ],\n",
       "       [0.25694444, 0.        , 0.        , 0.        , 0.        ],\n",
       "       [0.25694444, 0.        , 0.        , 0.        , 0.        ]])"
      ]
     },
     "execution_count": 104,
     "metadata": {},
     "output_type": "execute_result"
    }
   ],
   "source": [
    "X_train"
   ]
  },
  {
   "cell_type": "code",
   "execution_count": 129,
   "id": "805caf87-c98a-4859-b86d-f3390c58b444",
   "metadata": {},
   "outputs": [],
   "source": [
    "# Define window length for TimeseriesGenerator\n",
    "window_length = 24 # Assuming a window length of 24 samples\n",
    "\n",
    "# Create TimeseriesGenerator for training data\n",
    "train_generator = TimeseriesGenerator(X_train, y_train, length=window_length, batch_size=1)\n",
    "\n",
    "# Create TimeseriesGenerator for validation data\n",
    "val_generator = TimeseriesGenerator(X_val, y_val, length=window_length, batch_size=1)\n",
    "\n",
    "# Create TimeseriesGenerator for test data\n",
    "test_generator = TimeseriesGenerator(X_test, y_test, length=window_length, batch_size=1)"
   ]
  },
  {
   "cell_type": "code",
   "execution_count": 130,
   "id": "532e41e0-6ae5-4f38-a721-5367683111f1",
   "metadata": {},
   "outputs": [
    {
     "data": {
      "text/plain": [
       "5"
      ]
     },
     "execution_count": 130,
     "metadata": {},
     "output_type": "execute_result"
    }
   ],
   "source": [
    "train_generator.data.shape[1]"
   ]
  },
  {
   "cell_type": "code",
   "execution_count": 134,
   "id": "f81eabe6-3db7-41b1-a8df-ffa3ffb508a3",
   "metadata": {},
   "outputs": [],
   "source": [
    "from tensorflow.keras.models import Sequential\n",
    "from tensorflow.keras.layers import LSTM, Dense\n",
    "\n",
    "# Define the LSTM model\n",
    "model = Sequential([\n",
    "    LSTM(64, input_shape=(window_length, train_generator.data.shape[1]), return_sequences=True),\n",
    "    LSTM(32, return_sequences=False),\n",
    "    Dense(1)\n",
    "])\n",
    "\n",
    "# # Compile the model\n",
    "# model.compile(optimizer='adam', loss='mse')\n",
    "\n",
    "# # Print the model summary\n",
    "# model.summary()\n",
    "\n",
    "model.compile(optimizer='adam', loss='categorical_crossentropy', metrics=['accuracy'])\n",
    "# model.fit(train_generator, epochs=50, validation_data=val_generator)\n",
    "\n",
    "# # Evaluate the model on test data\n",
    "# loss, accuracy = model.evaluate(test_generator)\n",
    "# print(\"Test Loss:\", loss)\n",
    "# print(\"Test Accuracy:\", accuracy)"
   ]
  },
  {
   "cell_type": "code",
   "execution_count": 135,
   "id": "8b845b26-5184-4f9e-aeab-25725a97b6ed",
   "metadata": {},
   "outputs": [
    {
     "ename": "KeyError",
     "evalue": "24",
     "output_type": "error",
     "traceback": [
      "\u001b[1;31m---------------------------------------------------------------------------\u001b[0m",
      "\u001b[1;31mKeyError\u001b[0m                                  Traceback (most recent call last)",
      "Cell \u001b[1;32mIn[135], line 2\u001b[0m\n\u001b[0;32m      1\u001b[0m \u001b[38;5;66;03m# Train the model\u001b[39;00m\n\u001b[1;32m----> 2\u001b[0m history \u001b[38;5;241m=\u001b[39m \u001b[43mmodel\u001b[49m\u001b[38;5;241;43m.\u001b[39;49m\u001b[43mfit\u001b[49m\u001b[43m(\u001b[49m\u001b[43mtrain_generator\u001b[49m\u001b[43m,\u001b[49m\u001b[43m \u001b[49m\u001b[43mepochs\u001b[49m\u001b[38;5;241;43m=\u001b[39;49m\u001b[38;5;241;43m10\u001b[39;49m\u001b[43m,\u001b[49m\u001b[43m \u001b[49m\u001b[43mvalidation_data\u001b[49m\u001b[38;5;241;43m=\u001b[39;49m\u001b[43mval_generator\u001b[49m\u001b[43m)\u001b[49m\n",
      "File \u001b[1;32m~\\miniconda3\\envs\\py310\\lib\\site-packages\\keras\\utils\\traceback_utils.py:70\u001b[0m, in \u001b[0;36mfilter_traceback.<locals>.error_handler\u001b[1;34m(*args, **kwargs)\u001b[0m\n\u001b[0;32m     67\u001b[0m     filtered_tb \u001b[38;5;241m=\u001b[39m _process_traceback_frames(e\u001b[38;5;241m.\u001b[39m__traceback__)\n\u001b[0;32m     68\u001b[0m     \u001b[38;5;66;03m# To get the full stack trace, call:\u001b[39;00m\n\u001b[0;32m     69\u001b[0m     \u001b[38;5;66;03m# `tf.debugging.disable_traceback_filtering()`\u001b[39;00m\n\u001b[1;32m---> 70\u001b[0m     \u001b[38;5;28;01mraise\u001b[39;00m e\u001b[38;5;241m.\u001b[39mwith_traceback(filtered_tb) \u001b[38;5;28;01mfrom\u001b[39;00m \u001b[38;5;28;01mNone\u001b[39;00m\n\u001b[0;32m     71\u001b[0m \u001b[38;5;28;01mfinally\u001b[39;00m:\n\u001b[0;32m     72\u001b[0m     \u001b[38;5;28;01mdel\u001b[39;00m filtered_tb\n",
      "File \u001b[1;32m~\\miniconda3\\envs\\py310\\lib\\site-packages\\pandas\\core\\frame.py:4090\u001b[0m, in \u001b[0;36mDataFrame.__getitem__\u001b[1;34m(self, key)\u001b[0m\n\u001b[0;32m   4088\u001b[0m \u001b[38;5;28;01mif\u001b[39;00m \u001b[38;5;28mself\u001b[39m\u001b[38;5;241m.\u001b[39mcolumns\u001b[38;5;241m.\u001b[39mnlevels \u001b[38;5;241m>\u001b[39m \u001b[38;5;241m1\u001b[39m:\n\u001b[0;32m   4089\u001b[0m     \u001b[38;5;28;01mreturn\u001b[39;00m \u001b[38;5;28mself\u001b[39m\u001b[38;5;241m.\u001b[39m_getitem_multilevel(key)\n\u001b[1;32m-> 4090\u001b[0m indexer \u001b[38;5;241m=\u001b[39m \u001b[38;5;28;43mself\u001b[39;49m\u001b[38;5;241;43m.\u001b[39;49m\u001b[43mcolumns\u001b[49m\u001b[38;5;241;43m.\u001b[39;49m\u001b[43mget_loc\u001b[49m\u001b[43m(\u001b[49m\u001b[43mkey\u001b[49m\u001b[43m)\u001b[49m\n\u001b[0;32m   4091\u001b[0m \u001b[38;5;28;01mif\u001b[39;00m is_integer(indexer):\n\u001b[0;32m   4092\u001b[0m     indexer \u001b[38;5;241m=\u001b[39m [indexer]\n",
      "File \u001b[1;32m~\\miniconda3\\envs\\py310\\lib\\site-packages\\pandas\\core\\indexes\\base.py:3812\u001b[0m, in \u001b[0;36mIndex.get_loc\u001b[1;34m(self, key)\u001b[0m\n\u001b[0;32m   3807\u001b[0m     \u001b[38;5;28;01mif\u001b[39;00m \u001b[38;5;28misinstance\u001b[39m(casted_key, \u001b[38;5;28mslice\u001b[39m) \u001b[38;5;129;01mor\u001b[39;00m (\n\u001b[0;32m   3808\u001b[0m         \u001b[38;5;28misinstance\u001b[39m(casted_key, abc\u001b[38;5;241m.\u001b[39mIterable)\n\u001b[0;32m   3809\u001b[0m         \u001b[38;5;129;01mand\u001b[39;00m \u001b[38;5;28many\u001b[39m(\u001b[38;5;28misinstance\u001b[39m(x, \u001b[38;5;28mslice\u001b[39m) \u001b[38;5;28;01mfor\u001b[39;00m x \u001b[38;5;129;01min\u001b[39;00m casted_key)\n\u001b[0;32m   3810\u001b[0m     ):\n\u001b[0;32m   3811\u001b[0m         \u001b[38;5;28;01mraise\u001b[39;00m InvalidIndexError(key)\n\u001b[1;32m-> 3812\u001b[0m     \u001b[38;5;28;01mraise\u001b[39;00m \u001b[38;5;167;01mKeyError\u001b[39;00m(key) \u001b[38;5;28;01mfrom\u001b[39;00m \u001b[38;5;21;01merr\u001b[39;00m\n\u001b[0;32m   3813\u001b[0m \u001b[38;5;28;01mexcept\u001b[39;00m \u001b[38;5;167;01mTypeError\u001b[39;00m:\n\u001b[0;32m   3814\u001b[0m     \u001b[38;5;66;03m# If we have a listlike key, _check_indexing_error will raise\u001b[39;00m\n\u001b[0;32m   3815\u001b[0m     \u001b[38;5;66;03m#  InvalidIndexError. Otherwise we fall through and re-raise\u001b[39;00m\n\u001b[0;32m   3816\u001b[0m     \u001b[38;5;66;03m#  the TypeError.\u001b[39;00m\n\u001b[0;32m   3817\u001b[0m     \u001b[38;5;28mself\u001b[39m\u001b[38;5;241m.\u001b[39m_check_indexing_error(key)\n",
      "\u001b[1;31mKeyError\u001b[0m: 24"
     ]
    }
   ],
   "source": [
    "# Train the model\n",
    "history = model.fit(train_generator, epochs=10, validation_data=val_generator)"
   ]
  },
  {
   "cell_type": "code",
   "execution_count": null,
   "id": "aa4e5c76-7c0b-44b1-bad0-8fef69331889",
   "metadata": {},
   "outputs": [],
   "source": []
  }
 ],
 "metadata": {
  "kernelspec": {
   "display_name": "py310",
   "language": "python",
   "name": "py310"
  },
  "language_info": {
   "codemirror_mode": {
    "name": "ipython",
    "version": 3
   },
   "file_extension": ".py",
   "mimetype": "text/x-python",
   "name": "python",
   "nbconvert_exporter": "python",
   "pygments_lexer": "ipython3",
   "version": "3.10.14"
  }
 },
 "nbformat": 4,
 "nbformat_minor": 5
}
